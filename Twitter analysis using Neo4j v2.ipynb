{
 "cells": [
  {
   "cell_type": "code",
   "execution_count": 1,
   "metadata": {
    "collapsed": true
   },
   "outputs": [],
   "source": [
    "# necessary imports\n",
    "import tweepy as tweepy\n",
    "from neo4j.v1 import GraphDatabase, basic_auth"
   ]
  },
  {
   "cell_type": "code",
   "execution_count": 2,
   "metadata": {
    "collapsed": true
   },
   "outputs": [],
   "source": [
    "# authenticaing twitter api user\n",
    "consumer_key = ''\n",
    "consumer_secret = ''\n",
    "access_token =''\n",
    "access_token_secret = ''\n",
    "auth = tweepy.OAuthHandler(consumer_key, consumer_secret)\n",
    "auth.set_access_token(access_token, access_token_secret)\n",
    "\n",
    "api = tweepy.API(auth)"
   ]
  },
  {
   "cell_type": "code",
   "execution_count": 3,
   "metadata": {
    "collapsed": false
   },
   "outputs": [
    {
     "data": {
      "text/plain": [
       "'RT @PaytmTickets: Get ready for a smashing #Holi with rain dance, Punjabi Dhol, endless fun, food &amp; colours. Be a part of Rang Munch: https…'"
      ]
     },
     "execution_count": 3,
     "metadata": {},
     "output_type": "execute_result"
    }
   ],
   "source": [
    "#retriving a tweet from home page\n",
    "public_tweets = api.home_timeline()\n",
    "public_tweets[0].text"
   ]
  },
  {
   "cell_type": "markdown",
   "metadata": {},
   "source": [
    "### Twitter API rate limits"
   ]
  },
  {
   "cell_type": "code",
   "execution_count": 4,
   "metadata": {
    "collapsed": false
   },
   "outputs": [
    {
     "data": {
      "text/plain": [
       "{'limit': 15, 'remaining': 15, 'reset': 1488092352}"
      ]
     },
     "execution_count": 4,
     "metadata": {},
     "output_type": "execute_result"
    }
   ],
   "source": [
    "### checking rate limit - friends list\n",
    "limit = api.rate_limit_status()\n",
    "limit['resources']['friends']['/friends/list']['remaining']\n",
    "limit['resources']['friends']['/friends/list']"
   ]
  },
  {
   "cell_type": "markdown",
   "metadata": {},
   "source": [
    "#### Calculating remaining time (in mins) before api limits reset\n",
    "I find it helpful to check how many more minutes I have to wait before trying again"
   ]
  },
  {
   "cell_type": "code",
   "execution_count": 5,
   "metadata": {
    "collapsed": false
   },
   "outputs": [
    {
     "name": "stdout",
     "output_type": "stream",
     "text": [
      "Minute(s) remaining:  15.083333333333334\n"
     ]
    }
   ],
   "source": [
    "import datetime as dt\n",
    "given_date =dt.datetime.fromtimestamp(\n",
    "        int(limit['resources']['friends']['/friends/list']['reset'])\n",
    "    ).strftime('%Y-%m-%d %H:%M:%S')\n",
    "difference =  dt.datetime.strptime(given_date, \"%Y-%m-%d %H:%M:%S\")-dt.datetime.today()\n",
    "min=difference.seconds/60\n",
    "print (\"Minute(s) remaining: \",min)"
   ]
  },
  {
   "cell_type": "markdown",
   "metadata": {},
   "source": [
    "### Key function(s) of tweepy wrapper\n",
    "These fields are are stored in Neo4j (as properties) against a Person node."
   ]
  },
  {
   "cell_type": "code",
   "execution_count": 6,
   "metadata": {
    "collapsed": false
   },
   "outputs": [
    {
     "name": "stdout",
     "output_type": "stream",
     "text": [
      "narendramodi\n",
      "27398466\n",
      "1638\n",
      "India\n",
      "2009-01-10 17:18:56\n"
     ]
    }
   ],
   "source": [
    "# getting user details of a Person aka Narendra Modi\n",
    "suser = api.get_user('narendramodi') # this returns a User model\n",
    "print (suser.screen_name)\n",
    "print (suser.followers_count)\n",
    "print (suser.friends_count)\n",
    "print(suser.location)\n",
    "print(suser.created_at)"
   ]
  },
  {
   "cell_type": "code",
   "execution_count": 7,
   "metadata": {
    "collapsed": true
   },
   "outputs": [],
   "source": [
    "# get Narendra Modi's friends i.e. whome NM is following\n",
    "friends = api.friends('narendramodi')"
   ]
  },
  {
   "cell_type": "code",
   "execution_count": 8,
   "metadata": {
    "collapsed": true
   },
   "outputs": [],
   "source": [
    "# defining a driver\n",
    "driver = GraphDatabase.driver(\"bolt://localhost:7687\", auth=basic_auth(\"neo4j\", \"welcome123\"))\n",
    "# initiating a server\n",
    "session = driver.session()\n",
    "\n",
    "#deleting ALL existing records\n",
    "session.run(\"MATCH (n) DETACH DELETE n\")\n",
    "\n",
    "#adding a unique constraint; this ensures that same Person is not added twice\n",
    "session.run(\"CREATE CONSTRAINT ON (a:Person) ASSERT a.screen_name IS UNIQUE\")\n",
    "\n",
    "session.close()"
   ]
  },
  {
   "cell_type": "code",
   "execution_count": 9,
   "metadata": {
    "collapsed": true
   },
   "outputs": [],
   "source": [
    "# defining a driver\n",
    "driver = GraphDatabase.driver(\"bolt://localhost:7687\", auth=basic_auth(\"neo4j\", \"welcome123\"))\n",
    "session = driver.session()\n",
    "\n",
    "#adding narnendra modi details\n",
    "label =suser.screen_name\n",
    "session.run(\"CREATE (label:Person {screen_name: {screen_name}, name: {name}, followers_count: {followers_count}, friends_count:{friends_count},location:{location}})\",\n",
    "              {\"name\": suser.name, \"screen_name\": suser.screen_name, \"followers_count\":suser.followers_count,\"friends_count\": suser.friends_count,\"location\":suser.location }\n",
    "               )\n",
    "session.close()"
   ]
  },
  {
   "cell_type": "code",
   "execution_count": 10,
   "metadata": {
    "collapsed": false
   },
   "outputs": [
    {
     "name": "stdout",
     "output_type": "stream",
     "text": [
      "sub_friends: blind_cricket\n",
      "sub_friends: antoniocostapm\n",
      "Person already exists:  narendramodi\n",
      "sub_friends: DuttYogi\n",
      "Person already exists:  klrahul11\n",
      "sub_friends: klrahul11\n",
      "Person already exists:  anilkumble1074\n",
      "Person already exists:  SDhawan25\n",
      "Person already exists:  BCCI\n",
      "Person already exists:  karun126\n",
      "sub_friends: karun126\n",
      "Person already exists:  narendramodi\n",
      "Person already exists:  coach_rsridhar\n",
      "Person already exists:  VVSLaxman281\n",
      "Person already exists:  anilkumble1074\n",
      "Person already exists:  cheteshwar1\n"
     ]
    }
   ],
   "source": [
    "# defining a driver\n",
    "driver = GraphDatabase.driver(\"bolt://localhost:7687\", auth=basic_auth(\"neo4j\", \"welcome123\"))\n",
    "session = driver.session()\n",
    "\n",
    "i =0\n",
    "\n",
    "\n",
    "#adding all persons - whom narendra modi is following\n",
    "for user in friends:\n",
    "    #checking if the user already exists\n",
    "    output = session.run(\"MATCH (a:Person) WHERE a.screen_name ={check_name} return a.screen_name\",\n",
    "                             {\"check_name\":user.screen_name})\n",
    "    exists =''\n",
    "    for exists in output:\n",
    "            True\n",
    "    label =user.screen_name\n",
    "    #adding the user if doesnt exist\n",
    "    if exists=='':\n",
    "        session.run(\"CREATE (label:Person {screen_name: {screen_name}, name: {name}, followers_count: {followers_count}, friends_count:{friends_count},location:{location}})\",\n",
    "              {\"name\": user.name, \"screen_name\": user.screen_name, \"followers_count\":user.followers_count,\"friends_count\": user.friends_count,\"location\":user.location }\n",
    "               )\n",
    "    else:\n",
    "            print('Person already exists: ',user.screen_name)\n",
    "            \n",
    "    session.run(\"MATCH (a:Person),(b:Person) WHERE a.screen_name = {a_screen_name} AND b.screen_name = {b_screen_name} CREATE (a)-[r:FOLLOWING]->(b)\",\n",
    "               {\"a_screen_name\":suser.screen_name, \"b_screen_name\":user.screen_name })\n",
    "    \n",
    "    #temporary; ending the loop after 6 runs - dont exhaust twitter api limits\n",
    "    i=i+1\n",
    "    if i==6:\n",
    "        break\n",
    "    \n",
    "    #finding friends of Modi's friends\n",
    "    print ('sub_friends: '+ user.screen_name) #debugging why rate limits are getting exhausted\n",
    "    sub_friends = api.friends(user.screen_name)\n",
    "    #adding the friends of friends of Modi\n",
    "    for sub_user in sub_friends:\n",
    "        #checking if the sub_user already exists\n",
    "        output = session.run(\"MATCH (a:Person) WHERE a.screen_name ={check_name} return a.screen_name\",\n",
    "                             {\"check_name\":sub_user.screen_name})\n",
    "        exists =''\n",
    "        for exists in output:\n",
    "            True\n",
    "        label =sub_user.screen_name\n",
    "        #adding the user if doesnt exist\n",
    "        if exists=='':\n",
    "            \n",
    "            session.run(\"CREATE (label:Person {screen_name: {screen_name}, name: {name}, followers_count: {followers_count}, friends_count:{friends_count},location:{location}})\",\n",
    "              {\"name\": sub_user.name, \"screen_name\": sub_user.screen_name, \"followers_count\":sub_user.followers_count,\"friends_count\": sub_user.friends_count,\"location\":sub_user.location }\n",
    "               )\n",
    "        else:\n",
    "            print('Person already exists: ',sub_user.screen_name)\n",
    "        session.run(\"MATCH (a:Person),(b:Person) WHERE a.screen_name = {a_screen_name} AND b.screen_name = {b_screen_name} CREATE (a)-[r:FOLLOWING]->(b)\",\n",
    "               {\"a_screen_name\":user.screen_name, \"b_screen_name\":sub_user.screen_name })\n",
    "        \n",
    "\n",
    "session.close()"
   ]
  }
 ],
 "metadata": {
  "kernelspec": {
   "display_name": "Python [conda root]",
   "language": "python",
   "name": "conda-root-py"
  },
  "language_info": {
   "codemirror_mode": {
    "name": "ipython",
    "version": 3
   },
   "file_extension": ".py",
   "mimetype": "text/x-python",
   "name": "python",
   "nbconvert_exporter": "python",
   "pygments_lexer": "ipython3",
   "version": "3.5.2"
  }
 },
 "nbformat": 4,
 "nbformat_minor": 1
}

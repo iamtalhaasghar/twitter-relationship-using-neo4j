{
 "cells": [
  {
   "cell_type": "code",
   "execution_count": null,
   "metadata": {},
   "outputs": [],
   "source": [
    "# necessary imports\n",
    "import os, sys\n",
    "from dotenv import load_dotenv\n",
    "import tweepy as tweepy\n",
    "from neo4j import GraphDatabase, basic_auth\n",
    "load_dotenv()"
   ]
  },
  {
   "cell_type": "code",
   "execution_count": null,
   "metadata": {},
   "outputs": [],
   "source": [
    "# authenticaing twitter api user\n",
    "#consumer_key = ''\n",
    "#consumer_secret = ''\n",
    "#access_token =''\n",
    "#access_token_secret = ''\n",
    "\n",
    "#auth = tweepy.OAuthHandler(consumer_key, consumer_secret)\n",
    "#auth.set_access_token(access_token, access_token_secret)\n",
    "\n",
    "\n",
    "bearer_token = os.getenv('BEARER_TOKEN')\n",
    "auth = tweepy.OAuth2BearerHandler(bearer_token)\n",
    "api = tweepy.API(auth)\n"
   ]
  },
  {
   "cell_type": "code",
   "execution_count": null,
   "metadata": {},
   "outputs": [],
   "source": [
    "#retriving a tweet from home page\n",
    "# public_tweets = api.home_timeline()\n",
    "# public_tweets[0].text"
   ]
  },
  {
   "cell_type": "markdown",
   "metadata": {},
   "source": [
    "### Twitter API rate limits"
   ]
  },
  {
   "cell_type": "code",
   "execution_count": null,
   "metadata": {},
   "outputs": [],
   "source": [
    "### checking rate limit - friends list\n",
    "limit = api.rate_limit_status()\n",
    "limit['resources']['friends']['/friends/list']['remaining']\n",
    "limit['resources']['friends']['/friends/list']"
   ]
  },
  {
   "cell_type": "markdown",
   "metadata": {},
   "source": [
    "#### Calculating remaining time (in mins) before api limits reset\n",
    "I find it helpful to check how many more minutes I have to wait before trying again"
   ]
  },
  {
   "cell_type": "code",
   "execution_count": null,
   "metadata": {},
   "outputs": [],
   "source": [
    "import datetime as dt\n",
    "given_date =dt.datetime.fromtimestamp(\n",
    "        int(limit['resources']['friends']['/friends/list']['reset'])\n",
    "    ).strftime('%Y-%m-%d %H:%M:%S')\n",
    "difference =  dt.datetime.strptime(given_date, \"%Y-%m-%d %H:%M:%S\")-dt.datetime.today()\n",
    "min=difference.seconds/60\n",
    "print (\"Minute(s) remaining: \",min)"
   ]
  },
  {
   "cell_type": "markdown",
   "metadata": {},
   "source": [
    "### Key function(s) of tweepy wrapper\n",
    "These fields are are stored in Neo4j (as properties) against a Person node."
   ]
  },
  {
   "cell_type": "code",
   "execution_count": null,
   "metadata": {},
   "outputs": [],
   "source": [
    "# getting user details of a Person aka Narendra Modi\n",
    "# any other Person details can be fetched as a starting point \n",
    "user_input = input('Enter some twitter handle:')\n",
    "suser = api.get_user(screen_name=user_input) # this returns a User model\n",
    "print (suser.screen_name)\n",
    "print (suser.followers_count)\n",
    "print (suser.friends_count)\n",
    "print(suser.location)\n",
    "print(suser.created_at)"
   ]
  },
  {
   "cell_type": "code",
   "execution_count": null,
   "metadata": {},
   "outputs": [],
   "source": [
    "# get Narendra Modi's friends i.e. whome NM is following\n",
    "friends = api.get_friends(screen_name=user_input)"
   ]
  },
  {
   "cell_type": "code",
   "execution_count": null,
   "metadata": {},
   "outputs": [],
   "source": [
    "# defining a driver\n",
    "driver = GraphDatabase.driver(\"bolt://localhost:7687\", auth=basic_auth(\"neo4j\", \"admin\"))\n",
    "# initiating a server\n",
    "session = driver.session()\n",
    "\n",
    "#adding a unique constraint; this ensures that same Person is not added twice\n",
    "try:\n",
    "    #deleting ALL existing records\n",
    "    #session.run(\"MATCH (n) DETACH DELETE n\")\n",
    "    session.run(\"CREATE CONSTRAINT ON (a:Person) ASSERT a.screen_name IS UNIQUE\")\n",
    "except Exception as e:\n",
    "    print(e)\n",
    "\n",
    "session.close()"
   ]
  },
  {
   "cell_type": "code",
   "execution_count": null,
   "metadata": {},
   "outputs": [],
   "source": [
    "# defining a driver\n",
    "driver = GraphDatabase.driver(\"bolt://localhost:7687\", auth=basic_auth(\"neo4j\", \"admin\"))\n",
    "session = driver.session()\n",
    "\n",
    "#adding user details\n",
    "label =suser.screen_name\n",
    "session.run(\"CREATE (label:Person {screen_name: $screen_name, name: $name, followers_count: $followers_count, friends_count:$friends_count,location:$location})\",\n",
    "              {\"name\": suser.name, \"screen_name\": suser.screen_name, \"followers_count\":suser.followers_count,\"friends_count\": suser.friends_count,\"location\":suser.location }\n",
    "               )\n",
    "session.close()"
   ]
  },
  {
   "cell_type": "code",
   "execution_count": null,
   "metadata": {},
   "outputs": [],
   "source": [
    "# defining a driver\n",
    "driver = GraphDatabase.driver(\"bolt://localhost:7687\", auth=basic_auth(\"neo4j\", \"admin\"))\n",
    "session = driver.session()\n",
    "\n",
    "i =0\n",
    "\n",
    "\n",
    "#adding all persons - whom the target user is following\n",
    "for user in friends:\n",
    "    #checking if the user already exists\n",
    "    output = session.run(\"MATCH (a:Person) WHERE a.screen_name =$check_name return a.screen_name\",\n",
    "                             {\"check_name\":user.screen_name})\n",
    "    exists =''\n",
    "    for exists in output:\n",
    "            True\n",
    "    label =user.screen_name\n",
    "    #adding the user if doesnt exist\n",
    "    if exists=='':\n",
    "        session.run(\"CREATE (label:Person {screen_name: $screen_name, name: $name, followers_count: $followers_count, friends_count:$friends_count,location:$location})\",\n",
    "              {\"name\": user.name, \"screen_name\": user.screen_name, \"followers_count\":user.followers_count,\"friends_count\": user.friends_count,\"location\":user.location }\n",
    "               )\n",
    "    else:\n",
    "            print('Person already exists: ',user.screen_name)\n",
    "            \n",
    "    session.run(\"MATCH (a:Person),(b:Person) WHERE a.screen_name = $a_screen_name AND b.screen_name = $b_screen_name CREATE (a)-[r:FOLLOWING]->(b)\",\n",
    "               {\"a_screen_name\":suser.screen_name, \"b_screen_name\":user.screen_name })\n",
    "    \n",
    "    #temporary; ending the loop after 6 runs - dont exhaust twitter api limits\n",
    "    i=i+1\n",
    "    if i==6:\n",
    "        break\n",
    "    \n",
    "    #finding friends of Modi's friends\n",
    "    print ('sub_friends: '+ user.screen_name) #debugging why rate limits are getting exhausted\n",
    "    sub_friends = api.get_friends(screen_name=user.screen_name)\n",
    "    #adding the friends of friends of Modi\n",
    "    for sub_user in sub_friends:\n",
    "        #checking if the sub_user already exists\n",
    "        output = session.run(\"MATCH (a:Person) WHERE a.screen_name =$check_name return a.screen_name\",\n",
    "                             {\"check_name\":sub_user.screen_name})\n",
    "        exists =''\n",
    "        for exists in output:\n",
    "            True\n",
    "        label =sub_user.screen_name\n",
    "        #adding the user if doesnt exist\n",
    "        if exists=='':\n",
    "            \n",
    "            session.run(\"CREATE (label:Person {screen_name: $screen_name, name: $name, followers_count: $followers_count, friends_count:$friends_count,location:$location})\",\n",
    "              {\"name\": sub_user.name, \"screen_name\": sub_user.screen_name, \"followers_count\":sub_user.followers_count,\"friends_count\": sub_user.friends_count,\"location\":sub_user.location }\n",
    "               )\n",
    "        else:\n",
    "            print('Person already exists: ',sub_user.screen_name)\n",
    "        session.run(\"MATCH (a:Person),(b:Person) WHERE a.screen_name = $a_screen_name AND b.screen_name = $b_screen_name CREATE (a)-[r:FOLLOWING]->(b)\",\n",
    "               {\"a_screen_name\":user.screen_name, \"b_screen_name\":sub_user.screen_name })\n",
    "        \n",
    "\n",
    "session.close()"
   ]
  },
  {
   "cell_type": "code",
   "execution_count": null,
   "metadata": {},
   "outputs": [],
   "source": []
  }
 ],
 "metadata": {
  "kernelspec": {
   "display_name": "twitter-data-collection",
   "language": "python",
   "name": "twitter-data-collection"
  },
  "language_info": {
   "codemirror_mode": {
    "name": "ipython",
    "version": 3
   },
   "file_extension": ".py",
   "mimetype": "text/x-python",
   "name": "python",
   "nbconvert_exporter": "python",
   "pygments_lexer": "ipython3",
   "version": "3.10.5"
  }
 },
 "nbformat": 4,
 "nbformat_minor": 1
}
